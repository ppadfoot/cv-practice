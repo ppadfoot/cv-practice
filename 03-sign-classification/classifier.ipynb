{
 "cells": [
  {
   "cell_type": "code",
   "execution_count": 9,
   "metadata": {},
   "outputs": [
    {
     "name": "stdout",
     "output_type": "stream",
     "text": [
      "/Users/irubachev/Documents/CS/cvision/03-sign-classification\r\n"
     ]
    }
   ],
   "source": [
    "!pwd"
   ]
  },
  {
   "cell_type": "code",
   "execution_count": 10,
   "metadata": {
    "collapsed": true
   },
   "outputs": [],
   "source": [
    "import numpy as np\n",
    "from skimage.transform import resize\n",
    "from skimage.color import rgb2gray\n",
    "from skimage.io import imread\n",
    "from sklearn import svm\n",
    "from sklearn.model_selection import train_test_split, cross_val_score\n",
    "\n",
    "from os.path import join\n",
    "\n",
    "from ipywidgets import FloatProgress\n",
    "from IPython.display import display\n",
    "\n",
    "from time import time\n",
    "\n",
    "import warnings\n",
    "warnings.simplefilter('ignore')"
   ]
  },
  {
   "cell_type": "code",
   "execution_count": 11,
   "metadata": {
    "collapsed": true
   },
   "outputs": [],
   "source": [
    "def crop_and_rescale(im, size=(64,64)):\n",
    "    im = rgb2gray(im)\n",
    "    dim = max(im.shape)\n",
    "    return resize(im[:dim,:dim], size, mode='constant')"
   ]
  },
  {
   "cell_type": "code",
   "execution_count": 14,
   "metadata": {
    "collapsed": true
   },
   "outputs": [],
   "source": [
    "def extract_hog(im, bins_count=9, cell_size=(8, 8), block_size=(2, 2), eps=1e-25):\n",
    "    im = crop_and_rescale(im)\n",
    "    im = np.sqrt(im)\n",
    "    dy, dx = np.gradient(im, .5)\n",
    "    \n",
    "    mag = np.hypot(dx, dy)\n",
    "    ang = np.rad2deg(np.arctan2(dy, dx)) % 180\n",
    "    \n",
    "    cell_x, cell_y = cell_size\n",
    "    block_x, block_y = block_size\n",
    "\n",
    "    count_cx = im.shape[1] // cell_x\n",
    "    count_cy = im.shape[0] // cell_y\n",
    "\n",
    "    histograms = np.zeros((count_cy, count_cx, bins_count))\n",
    "\n",
    "    for y in range(count_cy):\n",
    "        for x in range(count_cx):\n",
    "            histograms[y, x] = make_histogram(mag, ang, cell_x, cell_y, cell_x * x, cell_y * y, bins_count)\n",
    "\n",
    "\n",
    "    count_bx = count_cx - block_x + 1\n",
    "    count_by = count_cy - block_y + 1\n",
    "    normalized = np.zeros((count_by, count_bx, block_y, block_x, 9))\n",
    "    for y in range(count_by):\n",
    "        for x in range(count_bx):\n",
    "            block = histograms[y:y + block_y, x:x + block_x, :]\n",
    "            normalized[y, x, :] = block / np.sqrt(np.sum(block ** 2) + eps)\n",
    "\n",
    "    return normalized.ravel()"
   ]
  },
  {
   "cell_type": "code",
   "execution_count": 15,
   "metadata": {
    "collapsed": true
   },
   "outputs": [],
   "source": [
    "def make_histogram(mag, ang, cell_x, cell_y, pos_x, pos_y, bins_count):\n",
    "    hist_vec = np.zeros((bins_count,))\n",
    "    for y in range(pos_y, pos_y + cell_y):\n",
    "        for x in range(pos_x, pos_x + cell_x):\n",
    "            cur_ang = ang[y, x]\n",
    "            ind = int(cur_ang // (180 / bins_count))\n",
    "            cur_ang %= (180 / bins_count)\n",
    "            hist_vec[(ind + 1) % bins_count] += (cur_ang / 20) * mag[y, x]\n",
    "            hist_vec[ind % bins_count] += (1. - cur_ang / 20) * mag[y, x]\n",
    "    return hist_vec"
   ]
  },
  {
   "cell_type": "code",
   "execution_count": 16,
   "metadata": {
    "collapsed": true
   },
   "outputs": [],
   "source": [
    "def preprocess_data(data_dir, filename):\n",
    "    fgt = open(join(data_dir, filename))\n",
    "    next(fgt)\n",
    "    lines = fgt.readlines()\n",
    "\n",
    "    filenames = []\n",
    "    labels = np.zeros(len(lines))\n",
    "    for i, line in enumerate(lines):\n",
    "        filename, label = line.rstrip('\\n').split(',')\n",
    "        filenames.append(filename)\n",
    "        labels[i] = int(label)\n",
    "\n",
    "    return filenames, labels"
   ]
  },
  {
   "cell_type": "code",
   "execution_count": 17,
   "metadata": {
    "collapsed": true
   },
   "outputs": [],
   "source": [
    "def extract_features(path, filenames):\n",
    "    hog_length = len(extract_hog(imread(join(path, filenames[0]), plugin='matplotlib')))\n",
    "    data = np.zeros((len(filenames), hog_length))\n",
    "    \n",
    "    f = FloatProgress(min=0, max=len(filenames)) # instantiate the bar\n",
    "    display(f)\n",
    "    \n",
    "    for i in range(0, len(filenames)):\n",
    "        f.value += 1\n",
    "        \n",
    "        filename = join(path, filenames[i])\n",
    "        data[i, :] = extract_hog(imread(filename, plugin='matplotlib'))\n",
    "    return data"
   ]
  },
  {
   "cell_type": "code",
   "execution_count": 21,
   "metadata": {
    "collapsed": true
   },
   "outputs": [],
   "source": [
    "def fit_and_classify(train_featues, train_labels, test_features):\n",
    "    clf = svm.SVC(kernel='linear')\n",
    "    clf.fit(train_featues, train_labels)\n",
    "    return clf.predict(test_features), clf"
   ]
  },
  {
   "cell_type": "code",
   "execution_count": 19,
   "metadata": {},
   "outputs": [
    {
     "data": {
      "application/vnd.jupyter.widget-view+json": {
       "model_id": "13b5a0ef58c74e7a9d05fc18e8d2a187"
      }
     },
     "metadata": {},
     "output_type": "display_data"
    },
    {
     "name": "stdout",
     "output_type": "stream",
     "text": [
      "CPU times: user 9min 33s, sys: 23.5 s, total: 9min 56s\n",
      "Wall time: 10min 8s\n"
     ]
    }
   ],
   "source": [
    "%%time\n",
    "data_path = \"/Users/irubachev/Documents/CS/cvision/03-sign-classification/data/train\"\n",
    "data_filename = \"gt.csv\"\n",
    "\n",
    "filenames, labels = preprocess_data(data_path, data_filename)\n",
    "\n",
    "data = extract_features(data_path, filenames)"
   ]
  },
  {
   "cell_type": "code",
   "execution_count": 20,
   "metadata": {
    "collapsed": true
   },
   "outputs": [],
   "source": [
    "X_train, X_test, y_train, y_test = train_test_split(data, labels, test_size=0.2, random_state=42)"
   ]
  },
  {
   "cell_type": "code",
   "execution_count": 23,
   "metadata": {},
   "outputs": [],
   "source": [
    "y_predicted, model = fit_and_classify(X_train, y_train, X_test)"
   ]
  },
  {
   "cell_type": "code",
   "execution_count": 25,
   "metadata": {},
   "outputs": [
    {
     "name": "stdout",
     "output_type": "stream",
     "text": [
      "0.981764855904\n"
     ]
    }
   ],
   "source": [
    "print(model.score(X_test, y_test))"
   ]
  },
  {
   "cell_type": "code",
   "execution_count": 15,
   "metadata": {},
   "outputs": [
    {
     "name": "stderr",
     "output_type": "stream",
     "text": [
      "[Parallel(n_jobs=-1)]: Done   5 out of   5 | elapsed: 20.2min finished\n"
     ]
    }
   ],
   "source": [
    "scores = cross_val_score(model, data, labels, cv=5, verbose=1, n_jobs=-1)"
   ]
  },
  {
   "cell_type": "code",
   "execution_count": 16,
   "metadata": {},
   "outputs": [
    {
     "data": {
      "text/plain": [
       "0.93172459675062524"
      ]
     },
     "execution_count": 16,
     "metadata": {},
     "output_type": "execute_result"
    }
   ],
   "source": [
    "np.mean(scores)"
   ]
  },
  {
   "cell_type": "code",
   "execution_count": 34,
   "metadata": {},
   "outputs": [
    {
     "data": {
      "text/plain": [
       "SVC(C=500, cache_size=200, class_weight=None, coef0=0.0,\n",
       "  decision_function_shape=None, degree=3, gamma='auto', kernel='linear',\n",
       "  max_iter=-1, probability=False, random_state=None, shrinking=True,\n",
       "  tol=0.001, verbose=False)"
      ]
     },
     "execution_count": 34,
     "metadata": {},
     "output_type": "execute_result"
    }
   ],
   "source": [
    "linear_model = svm.SVC(kernel='linear', C=500)\n",
    "linear_model.fit(X_train, y_train)"
   ]
  },
  {
   "cell_type": "code",
   "execution_count": 35,
   "metadata": {},
   "outputs": [
    {
     "data": {
      "text/plain": [
       "1.0"
      ]
     },
     "execution_count": 35,
     "metadata": {},
     "output_type": "execute_result"
    }
   ],
   "source": [
    "linear_model.score(X_train, y_train)"
   ]
  },
  {
   "cell_type": "code",
   "execution_count": 36,
   "metadata": {},
   "outputs": [
    {
     "data": {
      "text/plain": [
       "0.97908696761030345"
      ]
     },
     "execution_count": 36,
     "metadata": {},
     "output_type": "execute_result"
    }
   ],
   "source": [
    "linear_model.score(X_test, y_test)"
   ]
  },
  {
   "cell_type": "code",
   "execution_count": 17,
   "metadata": {},
   "outputs": [
    {
     "data": {
      "text/plain": [
       "array([ 0.92935476,  0.93611324,  0.93649579,  0.93522061,  0.92143859])"
      ]
     },
     "execution_count": 17,
     "metadata": {},
     "output_type": "execute_result"
    }
   ],
   "source": [
    "scores"
   ]
  },
  {
   "cell_type": "markdown",
   "metadata": {
    "collapsed": true
   },
   "source": [
    "C = $150$, kernel is rbf score $= 0,981828615149$"
   ]
  }
 ],
 "metadata": {
  "kernelspec": {
   "display_name": "Python 3",
   "language": "python",
   "name": "python3"
  },
  "language_info": {
   "codemirror_mode": {
    "name": "ipython",
    "version": 3
   },
   "file_extension": ".py",
   "mimetype": "text/x-python",
   "name": "python",
   "nbconvert_exporter": "python",
   "pygments_lexer": "ipython3",
   "version": "3.6.2"
  }
 },
 "nbformat": 4,
 "nbformat_minor": 2
}
