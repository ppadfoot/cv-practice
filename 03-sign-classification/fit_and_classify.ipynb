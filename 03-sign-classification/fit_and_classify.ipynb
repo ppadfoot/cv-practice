{
 "cells": [
  {
   "cell_type": "code",
   "execution_count": 1,
   "metadata": {},
   "outputs": [
    {
     "name": "stdout",
     "output_type": "stream",
     "text": [
      "/Users/irubachev/Documents/CS/cvision/03-sign-classification\r\n"
     ]
    }
   ],
   "source": [
    "!pwd"
   ]
  },
  {
   "cell_type": "code",
   "execution_count": 2,
   "metadata": {
    "collapsed": true
   },
   "outputs": [],
   "source": [
    "%matplotlib inline\n",
    "import numpy as np\n",
    "\n",
    "from skimage.io import imread\n",
    "from skimage.feature import hog\n",
    "from skimage.color import rgb2gray\n",
    "from skimage.transform import resize\n",
    "\n",
    "from matplotlib.pyplot import imshow\n",
    "\n",
    "from os.path import join\n",
    "\n",
    "from sklearn.svm import SVC as svm_cl\n",
    "from sklearn.ensemble import BaggingClassifier\n",
    "from sklearn.model_selection import train_test_split, cross_val_score\n",
    "\n",
    "from ipywidgets import FloatProgress\n",
    "from IPython.display import display\n",
    "\n",
    "from time import time\n",
    "\n",
    "import warnings\n",
    "warnings.simplefilter('ignore')"
   ]
  },
  {
   "cell_type": "code",
   "execution_count": 3,
   "metadata": {
    "collapsed": true
   },
   "outputs": [],
   "source": [
    "def preprocess_img(img, size=(64, 64), preserve_rgb=False):\n",
    "    if not preserve_rgb:\n",
    "        img = rgb2gray(img)\n",
    "    \n",
    "    img = resize(img, size)\n",
    "    return img"
   ]
  },
  {
   "cell_type": "code",
   "execution_count": 4,
   "metadata": {
    "collapsed": true
   },
   "outputs": [],
   "source": [
    "def hog_histograms(magnitude, angles, cellx, celly, n_cellx, n_celly,\n",
    "                   orientations, orientation_histogram):\n",
    "    angle_period = 180. / orientations\n",
    "    for cy_cnt in range(n_celly):\n",
    "        for cx_cnt in range(n_cellx):\n",
    "            pnt_x = cellx * cx_cnt\n",
    "            pnt_y = celly * cy_cnt\n",
    "            \n",
    "            histogram = np.zeros(orientations)\n",
    "            for y in range(pnt_y, pnt_y + celly):\n",
    "                for x in range(pnt_x, pnt_x + cellx):\n",
    "                    _angle = angles[y][x]\n",
    "                    bin_n = int(_angle // angle_period)\n",
    "                    relative_angle = _angle % angle_period\n",
    "                    partition = relative_angle / angle_period\n",
    "                    histogram[bin_n % orientations] += (1. - partition) * magnitude[y][x]\n",
    "                    histogram[(bin_n + 1) % orientations] += partition * magnitude[y][x]\n",
    "            \n",
    "            orientation_histogram[cy_cnt][cx_cnt] = histogram\n",
    "    \n",
    "    return orientation_histogram"
   ]
  },
  {
   "cell_type": "code",
   "execution_count": 5,
   "metadata": {
    "collapsed": true
   },
   "outputs": [],
   "source": [
    "def extract_hog(img, orientations=9, pixels_per_cell=(8, 8), cells_per_block=(2, 2), \n",
    "                norm_eps=1e-12, apply_sqrt=True):\n",
    "    img = preprocess_img(img)\n",
    "    \n",
    "    if apply_sqrt:\n",
    "        img = np.sqrt(img)\n",
    "\n",
    "    dy, dx = np.gradient(img, .5)\n",
    "    \n",
    "    magn = np.hypot(dx, dy)\n",
    "    angl = np.rad2deg(np.arctan2(dy, dx)) % 180\n",
    "        \n",
    "    sz_y, sz_x = img.shape\n",
    "    cellx, celly = pixels_per_cell\n",
    "    blockx, blocky = cells_per_block\n",
    "    \n",
    "    n_cellx = int(sz_x // cellx)\n",
    "    n_celly = int(sz_y // celly)\n",
    "    \n",
    "    orientation_histogram = np.zeros((n_celly, n_cellx, orientations))\n",
    "    orientation_histogram = hog_histograms(magn, angl, cellx, celly, n_cellx, n_celly,\n",
    "                                           orientations, orientation_histogram)\n",
    "    \n",
    "    n_blockx = n_cellx - blockx + 1\n",
    "    n_blocky = n_celly - blocky + 1\n",
    "    \n",
    "    norm_blocks = np.zeros((n_blocky, n_blockx, blocky, blockx, orientations))\n",
    "    \n",
    "    for y in range(n_blocky):\n",
    "        for x in range(n_blockx):\n",
    "            block = orientation_histogram[y: y + blocky, x: x + blockx, :]\n",
    "            norm_blocks[y, x, :] = block / np.sqrt(np.sum(block ** 2) + norm_eps ** 2)\n",
    "    \n",
    "    return np.ravel(norm_blocks)"
   ]
  },
  {
   "cell_type": "code",
   "execution_count": 6,
   "metadata": {
    "collapsed": true
   },
   "outputs": [],
   "source": [
    "def preprocess_data(data_dir, filename):\n",
    "    fgt = open(join(data_dir, filename))\n",
    "    next(fgt)\n",
    "    lines = fgt.readlines()\n",
    "\n",
    "    filenames = []\n",
    "    labels = np.zeros(len(lines))\n",
    "    for i, line in enumerate(lines):\n",
    "        filename, label = line.rstrip('\\n').split(',')\n",
    "        filenames.append(filename)\n",
    "        labels[i] = int(label)\n",
    "\n",
    "    return filenames, labels"
   ]
  },
  {
   "cell_type": "code",
   "execution_count": 7,
   "metadata": {
    "collapsed": true
   },
   "outputs": [],
   "source": [
    "def extract_features(path, filenames):\n",
    "    hog_length = len(extract_hog(imread(join(path, filenames[0]), plugin='matplotlib')))\n",
    "    data = np.zeros((len(filenames), hog_length))\n",
    "    \n",
    "    f = FloatProgress(min=0, max=len(filenames)) # instantiate the bar\n",
    "    display(f)\n",
    "    \n",
    "    for i in range(0, len(filenames)):\n",
    "        f.value += 1\n",
    "        \n",
    "        filename = join(path, filenames[i])\n",
    "        data[i, :] = extract_hog(imread(filename, plugin='matplotlib'))\n",
    "    return data"
   ]
  },
  {
   "cell_type": "code",
   "execution_count": 11,
   "metadata": {
    "collapsed": true
   },
   "outputs": [],
   "source": [
    "def fit_and_classify(train_features, train_labels, test_features, return_model=False):\n",
    "    model = svm_cl(kernel='linear', C=100.0)\n",
    "    model.fit(train_features, train_labels)\n",
    "    prdct = model.predict(test_features)\n",
    "    \n",
    "    if return_model:\n",
    "        return prdct, model\n",
    "    return prdct"
   ]
  },
  {
   "cell_type": "code",
   "execution_count": 10,
   "metadata": {},
   "outputs": [
    {
     "data": {
      "application/vnd.jupyter.widget-view+json": {
       "model_id": "99c9c11b5f964849ac56141f0626486a"
      }
     },
     "metadata": {},
     "output_type": "display_data"
    },
    {
     "name": "stdout",
     "output_type": "stream",
     "text": [
      "CPU times: user 9min 34s, sys: 20.5 s, total: 9min 54s\n",
      "Wall time: 10min 3s\n"
     ]
    }
   ],
   "source": [
    "%%time\n",
    "data_path = \"/Users/irubachev/Documents/CS/cvision/03-sign-classification/data/train\"\n",
    "data_filename = \"gt.csv\"\n",
    "\n",
    "filenames, labels = preprocess_data(data_path, data_filename)\n",
    "\n",
    "data = extract_features(data_path, filenames)"
   ]
  },
  {
   "cell_type": "code",
   "execution_count": 12,
   "metadata": {
    "collapsed": true
   },
   "outputs": [],
   "source": [
    "X_train, X_test, y_train, y_test = train_test_split(data, labels, test_size=0.4, random_state=42)"
   ]
  },
  {
   "cell_type": "code",
   "execution_count": 13,
   "metadata": {
    "collapsed": true
   },
   "outputs": [],
   "source": [
    "y_predicted, model = fit_and_classify(X_train, y_train, X_test, return_model=True)"
   ]
  },
  {
   "cell_type": "code",
   "execution_count": 14,
   "metadata": {},
   "outputs": [
    {
     "name": "stdout",
     "output_type": "stream",
     "text": [
      "0.97908696761\n"
     ]
    }
   ],
   "source": [
    "print(model.score(X_test, y_test))"
   ]
  },
  {
   "cell_type": "code",
   "execution_count": 22,
   "metadata": {},
   "outputs": [
    {
     "name": "stderr",
     "output_type": "stream",
     "text": [
      "[Parallel(n_jobs=-1)]: Done   5 out of   5 | elapsed: 71.9min finished\n"
     ]
    }
   ],
   "source": [
    "model = svm_cl(kernel='rbf', C=100.0)\n",
    "scores = cross_val_score(model, data, labels, cv=5, verbose=1, n_jobs=-1)"
   ]
  },
  {
   "cell_type": "code",
   "execution_count": 23,
   "metadata": {},
   "outputs": [
    {
     "data": {
      "text/plain": [
       "0.93175012321691641"
      ]
     },
     "execution_count": 23,
     "metadata": {},
     "output_type": "execute_result"
    }
   ],
   "source": [
    "np.mean(scores)"
   ]
  },
  {
   "cell_type": "code",
   "execution_count": 24,
   "metadata": {},
   "outputs": [
    {
     "data": {
      "text/plain": [
       "array([ 0.93088498,  0.93649579,  0.93496557,  0.93407294,  0.92233134])"
      ]
     },
     "execution_count": 24,
     "metadata": {},
     "output_type": "execute_result"
    }
   ],
   "source": [
    "scores"
   ]
  },
  {
   "cell_type": "code",
   "execution_count": null,
   "metadata": {
    "collapsed": true
   },
   "outputs": [],
   "source": []
  }
 ],
 "metadata": {
  "kernelspec": {
   "display_name": "Python 3",
   "language": "python",
   "name": "python3"
  },
  "language_info": {
   "codemirror_mode": {
    "name": "ipython",
    "version": 3
   },
   "file_extension": ".py",
   "mimetype": "text/x-python",
   "name": "python",
   "nbconvert_exporter": "python",
   "pygments_lexer": "ipython3",
   "version": "3.6.2"
  }
 },
 "nbformat": 4,
 "nbformat_minor": 2
}
