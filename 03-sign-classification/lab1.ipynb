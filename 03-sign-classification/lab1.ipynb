{
 "cells": [
  {
   "cell_type": "markdown",
   "metadata": {
    "deletable": true,
    "editable": true
   },
   "source": [
    "# Линейная алгебра. Лабораторная работа 1, осень 2016"
   ]
  },
  {
   "cell_type": "markdown",
   "metadata": {
    "deletable": true,
    "editable": true
   },
   "source": [
    "В этой лабораторной работе вы познакомитесь со средой Jupyter Notebook и библиотеками numpy и scipy."
   ]
  },
  {
   "cell_type": "markdown",
   "metadata": {
    "deletable": true,
    "editable": true
   },
   "source": [
    "## Часть 1. Библиотеки"
   ]
  },
  {
   "cell_type": "markdown",
   "metadata": {
    "deletable": true,
    "editable": true
   },
   "source": [
    "В этой лабораторной работе вам понадобятся три библиотеки:\n",
    "\n",
    "- `numpy` - основная библиотека для работы с матрицами;\n",
    "- `scipy`, а точнее модуль `scipy.linalg`, содержащий множество функций линейной алгебры;\n",
    "- `matplotlib` - графическая библиотека\n",
    "\n",
    "Подключить их можно следующим образом:"
   ]
  },
  {
   "cell_type": "code",
   "execution_count": 2,
   "metadata": {
    "collapsed": false,
    "deletable": true,
    "editable": true
   },
   "outputs": [],
   "source": [
    "# Запустите этот код\n",
    "import numpy as np\n",
    "\n",
    "import scipy.linalg as sla\n",
    "\n",
    "import matplotlib.pyplot as plt\n",
    "%matplotlib inline"
   ]
  },
  {
   "cell_type": "markdown",
   "metadata": {
    "deletable": true,
    "editable": true
   },
   "source": [
    "Теперь вы можете позвать, скажем, функцию `scipy.linalg.det()` с помощью кода `sla.det()`, а функцию `numpy.exp()` - с помощью кода `np.exp()`."
   ]
  },
  {
   "cell_type": "markdown",
   "metadata": {
    "deletable": true,
    "editable": true
   },
   "source": [
    "**Основные объекты и операции линейной алгебры в NumPy и SciPy:**"
   ]
  },
  {
   "cell_type": "markdown",
   "metadata": {
    "deletable": true,
    "editable": true
   },
   "source": [
    "Основной объект, с которым вам придётся работать и в этой, и в следующих лабораторных - это, безусловно, матрицы. В библиотеке `numpy` они представлены классом `numpy.ndarray`. Матрицу можно создать из двумерного (а на самом деле и не только двумерного) массива следующим образом:"
   ]
  },
  {
   "cell_type": "code",
   "execution_count": 2,
   "metadata": {
    "collapsed": false,
    "deletable": true,
    "editable": true
   },
   "outputs": [
    {
     "name": "stdout",
     "output_type": "stream",
     "text": [
      "[[1 2 3]\n",
      " [4 5 6]]\n",
      "(2, 3)\n"
     ]
    }
   ],
   "source": [
    "# Запустите этот код\n",
    "A = np.array([[1, 2, 3], [4, 5, 6]])\n",
    "\n",
    "print(A)\n",
    "print(A.shape) # пара (число строк, число столбцов)"
   ]
  },
  {
   "cell_type": "markdown",
   "metadata": {
    "deletable": true,
    "editable": true
   },
   "source": [
    "Обратите внимание, что матрица заполняется *по строкам*.\n",
    "\n",
    "Есть и много других конструкторов матриц. Например, единичная матрица размера $n\\times n$ создаётся с помощью функции `numpy.eye(n)`. Со всем многообразием конструкторов можно ознакомиться [на этой странице](https://docs.scipy.org/doc/numpy-1.10.1/reference/routines.array-creation.html)."
   ]
  },
  {
   "cell_type": "markdown",
   "metadata": {
    "deletable": true,
    "editable": true
   },
   "source": [
    "Зачастую бывает нужно получить доступ к подматрицам данной матрицы, и numpy предоставляет множество удобных средств, как это сделать (называется slicing):\n",
    "- элемент с номером `(i,j)`: `A[i,j]`\n",
    "- i-я строка матрицы: `A[i,:]`\n",
    "- j-й столбец матрицы: `A[:,j]`\n",
    "\n",
    "**Внимание!** Оба варианта, и `A[i,:]`, и `A[:,j]` дают не строку или столбец, а одномерный вектор. Если вы хотите получить вектор-строку или вектор-столбец соответственно, используйте вот такой синтаксис: `A[i:i+1,:]`, и `A[:,j:j+1]`\n",
    "- строки с нулевой по i-ю: `A[:i+1,:]`\n",
    "- столбцы с j-го по последний: `A[:,j:]`\n",
    "- строки с i-й по k-ю: `A[i:k,:]`"
   ]
  },
  {
   "cell_type": "markdown",
   "metadata": {
    "deletable": true,
    "editable": true
   },
   "source": [
    "*Умножение матриц* производится с помощью оператора `np.dot()`. Есть два варианта написания: `A.dot(B)` и `np.dot(A, B)`.\n",
    "\n",
    "Обычные знаки арифметических действий (`+`, `-`, `*`) зарезервированы для поэлементных операций. Например, `A * B` - это матрица, элементами которой являются произведения $A_{ij}B_{ij}$. Помимо этих есть и множество других поэлементных операций. Например, `numpy.exp(A)` - это матрица, элементами которой являются экспоненты элементов матрицы `A`."
   ]
  },
  {
   "cell_type": "markdown",
   "metadata": {
    "deletable": true,
    "editable": true
   },
   "source": [
    "Чтобы получить матрицу, *транспонированную* к матрице `A`, напишите просто `A.T`. "
   ]
  },
  {
   "cell_type": "markdown",
   "metadata": {
    "deletable": true,
    "editable": true
   },
   "source": [
    "В некоторых случаях бывает нужно создавать *случайные матрицы*: например, при проведении экспериментов или для инициализации итеративных методов. Средства для этого предоставляет пакет [numpy.random](https://docs.scipy.org/doc/numpy/reference/routines.random.html). Так, `np.random.rand(m,n)` - это матрица $m\\times n$, элементы которой независимо выбраны из равномерного распределения на интервале `[0;1)` "
   ]
  },
  {
   "cell_type": "markdown",
   "metadata": {
    "deletable": true,
    "editable": true
   },
   "source": [
    "Для *решения систем линейных уравнений* в пакете `scipy.linalg` есть множество методов, рассмотрение которых выходит за пределы курса линейной алгебры. Мы вам пока предлагаем пользоваться функцией `scipy.linalg.solve`, основанной на методе Гаусса. Отметим, что `scipy.linalg.solve(A, B)` выдаёт решение уравнения $AX = B$ (или ошибку), где $B$ может быть как вектором, так и матрицей.\n",
    "\n",
    "Найти обратную матрицу для матрицы $A$ можно с помощью функции `sla.inv(A)`."
   ]
  },
  {
   "cell_type": "markdown",
   "metadata": {
    "deletable": true,
    "editable": true
   },
   "source": [
    "**Копирование сложных объектов в Python**"
   ]
  },
  {
   "cell_type": "markdown",
   "metadata": {
    "deletable": true,
    "editable": true
   },
   "source": [
    "Когда вы делаете присваивание каких-то сложных объектов, как правило оно происходит по ссылке. Например, код\n",
    "```\n",
    "B = A\n",
    "B[0,0] = 10\n",
    "```\n",
    "приведёт к изменению матрицы `A`.\n",
    "\n",
    "Не попадайтесь в эту ловушку! Если вы хотите работать с копией как с независимой матрицей, используйте метод `copy()`:\n",
    "```\n",
    "B = A.copy()\n",
    "```"
   ]
  },
  {
   "cell_type": "markdown",
   "metadata": {
    "deletable": true,
    "editable": true
   },
   "source": [
    "**Где искать помощь**"
   ]
  },
  {
   "cell_type": "markdown",
   "metadata": {
    "deletable": true,
    "editable": true
   },
   "source": [
    "Библиотеки `numpy` и `scipy` снабжены прекрасной документацией. Если у вас возникают вопросы о том, как работает та или иная функция (или даже как называется функция, выполняющая то, что вам нужно), вы почти всего можете найти там ответы.\n",
    "\n",
    "[Ссылка на документацию пакета scipy.linalg](https://docs.scipy.org/doc/scipy-0.18.1/reference/linalg.html)"
   ]
  },
  {
   "cell_type": "markdown",
   "metadata": {
    "deletable": true,
    "editable": true
   },
   "source": [
    "**И всё-таки задание**"
   ]
  },
  {
   "cell_type": "markdown",
   "metadata": {
    "deletable": true,
    "editable": true
   },
   "source": [
    "В качестве первого задания мы попросим вас отыскать соответствующие функции в библиотеке и сделать следующее:\n",
    "\n",
    "- создать нулевую матрицу $Z$ размера $3\\times4$;\n",
    "\n",
    "- создать диагональную матрицу $5\\times5$ с диагональными элементами 1, 2, 3, 4 и 5;\n",
    "\n",
    "- найти её след (не силою мысли, а с помощью библиотечных функций, конечно);\n",
    "\n",
    "- найти обратную к ней матрицу;\n",
    "\n",
    "- сгенерировать случайную матрицу $X$ $4\\times5$;\n",
    "\n",
    "- найти минор матрицы $X$, расположенный на пересечении 2 и 3 строки и 1 и 2 столбца; считаем, что строки и столбцы нумеруются с единицы (используйте slicing!);\n",
    "\n",
    "- найти произведение $X^TX$.\n",
    "\n",
    "Пожалуйста, каждый пункт делайте в новом блоке и не забывайте распечатывать результаты."
   ]
  },
  {
   "cell_type": "code",
   "execution_count": 3,
   "metadata": {
    "collapsed": false,
    "deletable": true,
    "editable": true
   },
   "outputs": [
    {
     "name": "stdout",
     "output_type": "stream",
     "text": [
      "[[ 0.  0.  0.  0.]\n",
      " [ 0.  0.  0.  0.]\n",
      " [ 0.  0.  0.  0.]]\n"
     ]
    }
   ],
   "source": [
    "Z = np.zeros((3,4))\n",
    "print(Z)"
   ]
  },
  {
   "cell_type": "code",
   "execution_count": 4,
   "metadata": {
    "collapsed": false,
    "deletable": true,
    "editable": true
   },
   "outputs": [
    {
     "name": "stdout",
     "output_type": "stream",
     "text": [
      "[[1 0 0 0 0]\n",
      " [0 2 0 0 0]\n",
      " [0 0 3 0 0]\n",
      " [0 0 0 4 0]\n",
      " [0 0 0 0 5]]\n"
     ]
    }
   ],
   "source": [
    "D = np.diag([1, 2, 3, 4, 5])\n",
    "print(D)"
   ]
  },
  {
   "cell_type": "code",
   "execution_count": 5,
   "metadata": {
    "collapsed": false,
    "deletable": true,
    "editable": true
   },
   "outputs": [
    {
     "name": "stdout",
     "output_type": "stream",
     "text": [
      "15\n"
     ]
    }
   ],
   "source": [
    "trace = np.trace(D)\n",
    "print(trace)"
   ]
  },
  {
   "cell_type": "code",
   "execution_count": 6,
   "metadata": {
    "collapsed": false,
    "deletable": true,
    "editable": true
   },
   "outputs": [
    {
     "name": "stdout",
     "output_type": "stream",
     "text": [
      "[[ 1.          0.          0.          0.         -0.        ]\n",
      " [ 0.          0.5         0.          0.         -0.        ]\n",
      " [ 0.          0.          0.33333333  0.         -0.        ]\n",
      " [ 0.          0.          0.          0.25       -0.        ]\n",
      " [ 0.          0.          0.          0.          0.2       ]]\n"
     ]
    }
   ],
   "source": [
    "invD = sla.inv(D)\n",
    "print(invD)"
   ]
  },
  {
   "cell_type": "code",
   "execution_count": 7,
   "metadata": {
    "collapsed": false,
    "deletable": true,
    "editable": true
   },
   "outputs": [
    {
     "name": "stdout",
     "output_type": "stream",
     "text": [
      "[[ 0.7781741   0.82542615  0.92727911  0.01422614  0.7644641 ]\n",
      " [ 0.63794073  0.17930219  0.50658995  0.67600761  0.99611742]\n",
      " [ 0.30062621  0.91563163  0.57843701  0.38369774  0.33346511]\n",
      " [ 0.95972756  0.04162858  0.7449439   0.98584661  0.24947826]]\n"
     ]
    }
   ],
   "source": [
    "X = np.random.rand(4,5)\n",
    "print(X)"
   ]
  },
  {
   "cell_type": "code",
   "execution_count": 8,
   "metadata": {
    "collapsed": false,
    "deletable": true,
    "editable": true
   },
   "outputs": [
    {
     "name": "stdout",
     "output_type": "stream",
     "text": [
      "[[ 0.63794073  0.17930219]\n",
      " [ 0.30062621  0.91563163]]\n"
     ]
    }
   ],
   "source": [
    "M = X[1:3,:2]\n",
    "print(M)"
   ]
  },
  {
   "cell_type": "code",
   "execution_count": 9,
   "metadata": {
    "collapsed": false,
    "deletable": true,
    "editable": true
   },
   "outputs": [
    {
     "name": "stdout",
     "output_type": "stream",
     "text": [
      "[[ 2.73133754  1.88529293  1.78647901  1.67670933]\n",
      " [ 1.88529293  2.14498723  1.24053983  1.91204394]\n",
      " [ 1.78647901  1.24053983  1.52176971  1.21899824]\n",
      " [ 1.67670933  1.91204394  1.21899824  2.51188429]]\n"
     ]
    }
   ],
   "source": [
    "X = np.dot(X, X.T)\n",
    "print(X)"
   ]
  },
  {
   "cell_type": "markdown",
   "metadata": {
    "deletable": true,
    "editable": true
   },
   "source": [
    "## Часть 2. Время\n",
    "\n",
    "Питон мотивирует пользоваться библиотечными функциями, когда они доступны, а не писать собственные. Основной враг питониста - это циклы, которые в Питоне выполняются очень медленно. Библиотечные функции обычно пишутся на более эффективных языках, таких как C++ или Fortran, и обогнать эти решения просто так вы не сможете.\n",
    "\n",
    "Мы предлагаем вам убедиться в этом самим. Напишите функцию `my_det`, которая вычисляла бы определитель матрицы с помощью элементарных преобразований над строками. Функция должна выкидывать `ValueError` в случаях, если матрица не является квадратной."
   ]
  },
  {
   "cell_type": "code",
   "execution_count": 16,
   "metadata": {
    "collapsed": false,
    "deletable": true,
    "editable": true
   },
   "outputs": [],
   "source": [
    "def my_det(X):\n",
    "    '''\n",
    "    Parameters\n",
    "    ----------\n",
    "    X : array_like\n",
    "    \n",
    "    Returns\n",
    "    -------\n",
    "    det : float\n",
    "        Determinant of `a`.\n",
    "    '''\n",
    "    if X.shape[0] != X.shape[1]:\n",
    "        raise ValueError\n",
    "    \n",
    "    det = 1\n",
    "    \n",
    "    for col in range(X.shape[1]):\n",
    "        for row in range(col, X.shape[0]):\n",
    "            if X[row, col] == 0:\n",
    "                continue\n",
    "            else:\n",
    "                X[col,:], X[row,:] = X[row,:], X[col,:]\n",
    "                det *= -1\n",
    "                for i in range(col + 1, X.shape[0]):\n",
    "                    X[i, :] = X[i, :] - (X[col, :] / X[col, col]) * X[i, col]\n",
    "                det *= X[col, col]\n",
    "                break\n",
    "    \n",
    "    return det"
   ]
  },
  {
   "cell_type": "markdown",
   "metadata": {
    "deletable": true,
    "editable": true
   },
   "source": [
    "Простая проверка:"
   ]
  },
  {
   "cell_type": "code",
   "execution_count": 19,
   "metadata": {
    "collapsed": false,
    "deletable": true,
    "editable": true
   },
   "outputs": [
    {
     "name": "stdout",
     "output_type": "stream",
     "text": [
      "[[0 0 1]\n",
      " [0 1 0]\n",
      " [1 0 0]]\n",
      "1\n"
     ]
    }
   ],
   "source": [
    "# Запустите этот блок кода\n",
    "X = np.array([[0,0,1], [0,1,0], [1,0,0]])\n",
    "print(X)\n",
    "print(my_det(X))"
   ]
  },
  {
   "cell_type": "markdown",
   "metadata": {
    "deletable": true,
    "editable": true
   },
   "source": [
    "На случай, если нам просто повезло с этой матрицей, имеет смысл написать чуть более хитрые тесты. Мы сгенерируем несколько случайных матриц $8\\times8$ с помощью функции `numpy.random.rand` и сравним ответ, выдаваемый нашей функцией, с настоящим определителем (результатом работы библиотечной функции `scipy.linalg.det`):"
   ]
  },
  {
   "cell_type": "code",
   "execution_count": 20,
   "metadata": {
    "collapsed": false,
    "deletable": true,
    "editable": true
   },
   "outputs": [],
   "source": [
    "# Запустите этот блок кода\n",
    "for _ in range(10):\n",
    "    X = np.random.rand(8,8)\n",
    "    if np.abs(my_det(X) - sla.det(X)) > 1e-6:\n",
    "        print('FAILED')"
   ]
  },
  {
   "cell_type": "markdown",
   "metadata": {
    "deletable": true,
    "editable": true
   },
   "source": [
    "Если вы ни разу не получили `FAILED`, то ваша функция работает правильно."
   ]
  },
  {
   "cell_type": "markdown",
   "metadata": {
    "deletable": true,
    "editable": true
   },
   "source": [
    "Теперь давайте сравним скорость работы вашей функции и библиотечной функции `scipy.linalg.det`. В Питоне есть несколько способов измерения времени; мы воспользуемся декоратором `%timeit`. Будучи написан перед функцией, он запускает её некоторое количество раз, выбирает три случайных запуска и возвращает длительность самого быстрого из них. Модификатор `-o` между декоратором и функцией позволяет сохранять результаты работы декоратора в переменную.\n",
    "\n",
    "Приготовьтесь, что следующий блок может работать сравнительно долго."
   ]
  },
  {
   "cell_type": "code",
   "execution_count": 60,
   "metadata": {
    "collapsed": false,
    "deletable": true,
    "editable": true
   },
   "outputs": [
    {
     "name": "stdout",
     "output_type": "stream",
     "text": [
      "The slowest run took 9.63 times longer than the fastest. This could mean that an intermediate result is being cached.\n",
      "100000 loops, best of 3: 19 µs per loop\n",
      "10000 loops, best of 3: 198 µs per loop\n",
      "The slowest run took 132.23 times longer than the fastest. This could mean that an intermediate result is being cached.\n",
      "10000 loops, best of 3: 113 µs per loop\n",
      "10 loops, best of 3: 19.8 ms per loop\n",
      "10 loops, best of 3: 20.8 ms per loop\n"
     ]
    },
    {
     "name": "stderr",
     "output_type": "stream",
     "text": [
      "/Users/irubachev/anaconda/lib/python3.5/site-packages/ipykernel/__main__.py:25: RuntimeWarning: overflow encountered in double_scalars\n"
     ]
    },
    {
     "name": "stdout",
     "output_type": "stream",
     "text": [
      "1 loop, best of 3: 3.64 s per loop\n"
     ]
    },
    {
     "data": {
      "text/plain": [
       "<matplotlib.legend.Legend at 0x111ae11d0>"
      ]
     },
     "execution_count": 60,
     "metadata": {},
     "output_type": "execute_result"
    },
    {
     "data": {
      "image/png": "[encoded data removed]",
      "text/plain": [
       "<matplotlib.figure.Figure at 0x10b3ab7f0>"
      ]
     },
     "metadata": {},
     "output_type": "display_data"
    }
   ],
   "source": [
    "# Запустите этот блок кода\n",
    "lib_times = []\n",
    "my_times = []\n",
    "dimensions = [10, 100, 1000]\n",
    "for dim in dimensions:\n",
    "    A = np.random.rand(dim, dim)\n",
    "    res_lib = %timeit -o sla.det(A)\n",
    "    lib_times.append(res_lib.best)\n",
    "    res_my = %timeit -o my_det(A)\n",
    "    my_times.append(res_my.best)    \n",
    "\n",
    "plt.plot(dimensions, lib_times, color='blue', label='Library function')\n",
    "plt.plot(dimensions, my_times, color='red', label='My function')\n",
    "plt.title('My function vs library function, log y scale')\n",
    "plt.ylabel('Time')\n",
    "plt.xlabel('Matrix dimension')\n",
    "plt.legend()"
   ]
  },
  {
   "cell_type": "markdown",
   "metadata": {
    "deletable": true,
    "editable": true
   },
   "source": [
    "У вас должны были получиться графики, показывающие, как растёт с ростом размерности матрицы время вычисления определителя. Поскольку они вышли не больно-то красивыми, мы нарисуем их в *логарифмическом масштабе* по оси у:"
   ]
  },
  {
   "cell_type": "code",
   "execution_count": 61,
   "metadata": {
    "collapsed": false,
    "deletable": true,
    "editable": true
   },
   "outputs": [
    {
     "data": {
      "text/plain": [
       "<matplotlib.legend.Legend at 0x111d75550>"
      ]
     },
     "execution_count": 61,
     "metadata": {},
     "output_type": "execute_result"
    },
    {
     "data": {
      "image/png": "[encoded data removed]",
      "text/plain": [
       "<matplotlib.figure.Figure at 0x10b3ca588>"
      ]
     },
     "metadata": {},
     "output_type": "display_data"
    }
   ],
   "source": [
    "# Запустите этот блок кода\n",
    "plt.semilogy(dimensions, lib_times, color='blue', label='Library function')\n",
    "plt.semilogy(dimensions, my_times, color='red', label='My function')\n",
    "plt.title('My function vs library function, log y scale')\n",
    "plt.ylabel('Time')\n",
    "plt.xlabel('Matrix dimension')\n",
    "plt.legend()"
   ]
  },
  {
   "cell_type": "markdown",
   "metadata": {
    "deletable": true,
    "editable": true
   },
   "source": [
    "Вы можете убедиться, что библиотечная функция работает *гораздо* быстрее."
   ]
  },
  {
   "cell_type": "markdown",
   "metadata": {
    "deletable": true,
    "editable": true
   },
   "source": [
    "## Часть 3. Точность\n",
    "\n",
    "Наверняка вы уже что-то знаете про floating point arithmetics и связанные с этим трудности и понимаете, что на компьютере вычисления с вещественными числами производятся лишь с ограниченной точностью. "
   ]
  },
  {
   "cell_type": "markdown",
   "metadata": {
    "deletable": true,
    "editable": true
   },
   "source": [
    "В качестве первого примера, показывающего различие между длинной арифметикой целых чисел и floating point arithmetics, предлагаем вам перемножить две пары матриц:\n",
    "\n",
    "$$\n",
    "\\begin{pmatrix}\n",
    "1 & 0\\\\\n",
    "10^{20} & 1\n",
    "\\end{pmatrix}\n",
    "\\cdot\n",
    "\\begin{pmatrix}\n",
    "10^{-20} & 1\\\\\n",
    "0 & 1 - 10^{20}\n",
    "\\end{pmatrix}\n",
    "$$\n",
    "и\n",
    "$$\n",
    "\\begin{pmatrix}\n",
    "1. & 0.\\\\\n",
    "10.^{20} & 1.\n",
    "\\end{pmatrix}\n",
    "\\cdot\n",
    "\\begin{pmatrix}\n",
    "10.^{-20} & 1.\\\\\n",
    "0. & 1. - 10.^{20}\n",
    "\\end{pmatrix}\n",
    "$$\n",
    "Во втором случае мы специально указали Питону (поставив везде десятичные точки), что хотим работать не с целыми числами, а с числами с плавающей точкой. Посмотрим, получатся ли одинаковые ответы:"
   ]
  },
  {
   "cell_type": "code",
   "execution_count": 15,
   "metadata": {
    "collapsed": false,
    "deletable": true,
    "editable": true
   },
   "outputs": [
    {
     "name": "stdout",
     "output_type": "stream",
     "text": [
      "[[1e-20 1]\n",
      " [1.0 1]]\n",
      "[[  1.00000000e-20   1.00000000e+00]\n",
      " [  1.00000000e+00   0.00000000e+00]]\n"
     ]
    }
   ],
   "source": [
    "A = np.array([[1, 0], [10**20, 1]])\n",
    "B = np.array([[10**-20, 1], [0, 1 - 10**20]])\n",
    "A1 = np.array([[1., 0.], [10.**20, 1.]])\n",
    "B1 = np.array([[10.**-20, 1.], [0., 1. - 10.**20]])\n",
    "print(A.dot(B))\n",
    "print(A1.dot(B1))"
   ]
  },
  {
   "cell_type": "markdown",
   "metadata": {
    "deletable": true,
    "editable": true
   },
   "source": [
    "И какой из них правильный?\n",
    "\n",
    "---\n",
    "Правильный ответ первый так как вещественное число с большой степенью хранится в памяти компьютера как число вида $a_{0},a_{1}a_{2}\\ldots$ и отдельно степени, а прибавляя к такому большому числу единицу т.е. $0,0\\ldots01 \\cdot 10^{20}$ ничего не менятется так как $20$ слишком большая степень поэтому в данном выражении в итоге получается 0. Иначе говоря при вычислениях в числах с плавающей точкой точость теряется, чего нельзя сказать о длинной арифметике целых чисел, там с точностью все в порядке. \n",
    "\n",
    "---"
   ]
  },
  {
   "cell_type": "markdown",
   "metadata": {
    "deletable": true,
    "editable": true
   },
   "source": [
    "Впрочем, и с целыми числами тоже не всегда всё хорошо. Напишите функцию, генерирующую *матрицу Паскаля* заданной размерности $n$, то есть матрицу $P$, в которой $P_{ij} = C_{i+j}^i$. В этом задании нельзя пользоваться библиотечной функцией `scipy.linalg.pascal` или её аналогами из других библиотек. Обратите внимание, что использование факториалов крайне нежелательно, так как быстро приведёт к переполнению."
   ]
  },
  {
   "cell_type": "code",
   "execution_count": 17,
   "metadata": {
    "collapsed": false,
    "deletable": true,
    "editable": true
   },
   "outputs": [
    {
     "name": "stdout",
     "output_type": "stream",
     "text": [
      "[[1 1 1]\n",
      " [1 2 3]\n",
      " [1 3 6]]\n",
      "1.0\n"
     ]
    }
   ],
   "source": [
    "def my_pascal(dim):\n",
    "    '''\n",
    "    Мы создали для вас матрицу из нулей размера dim x dim,\n",
    "    но вы можете ей не пользоваться, если не хотите\n",
    "    '''\n",
    "    P = np.zeros((dim, dim), dtype=np.int)\n",
    "    \n",
    "    for i in range(P.shape[0]):\n",
    "        for j in range(P.shape[1]):\n",
    "            if i == 0 or j == 0:\n",
    "                P[i, j] = 1\n",
    "            else:\n",
    "                P[i, j] = P[i - 1, j] + P[i, j - 1]\n",
    "    return P\n",
    "\n",
    "print(my_pascal(3))\n",
    "print(sla.det(my_pascal(3)))"
   ]
  },
  {
   "cell_type": "markdown",
   "metadata": {
    "deletable": true,
    "editable": true
   },
   "source": [
    "Чему равен её определитель на самом деле?\n",
    "\n",
    "----\n",
    "На самом деле ее определитель равен единице. При любом $n$.\n",
    "\n",
    "Возьмем две такие матрицы: верхне и нижне треугольную матрицу паскаля с единицами на главной и побочной диагонялях соответственно. Выглядят они так:\n",
    "\n",
    "$$\n",
    "    D = \\begin{pmatrix}\n",
    "        1 & 0 & 0 & 0 & 0 \\\\\n",
    "        1 & 1 & 0 & 0 & 0 \\\\\n",
    "        1 & 2 & 1 & 0 & 0 \\\\\n",
    "        1 & 3 & 3 & 1 & 0 \\\\\n",
    "        1 & 4 & 6 & 4 & 1\n",
    "    \\end{pmatrix}\n",
    "$$\n",
    "\n",
    ", в этой матрице (которая сверху) на $(i,j)$ месте стоит $\\binom{i}{j}$ если $i \\geqslant j$ и $0$ иначе. \n",
    "\n",
    "$$\n",
    "    U = \\begin{pmatrix}\n",
    "        1 & 1 & 1 & 1 & 1 \\\\\n",
    "        0 & 1 & 2 & 3 & 4 \\\\\n",
    "        0 & 0 & 1 & 3 & 6 \\\\\n",
    "        0 & 0 & 0 & 1 & 4 \\\\\n",
    "        0 & 0 & 0 & 0 & 1\n",
    "    \\end{pmatrix}\n",
    "$$\n",
    "\n",
    ", а в этой матрице на $(i,j)$ месте стоит $\\binom{j}{i}$ если $i \\leqslant j$ и $0$ иначе.\n",
    "\n",
    "Докажем что произведение таких матриц даст нам матрицу паскаля в которой на $(i,j)$ месте будет стоять $\\binom{i + j}{i}$.\n",
    "\n",
    "Элемент произведения равен:\n",
    "$$\n",
    "    a_{ij} = \\sum_{k = 0}^{n - 1} d_{ik} \\cdot u_{kj}\n",
    "$$\n",
    "\n",
    "Но так как $D = U^{T}$, то это произведение можно переписать в таком виде:\n",
    "\n",
    "$$\n",
    "    a_{ij} = \\sum_{k = 0}^{n - 1} d_{ik} \\cdot d_{jk} = \\sum_{k = 0}^{n - 1} \\binom{i}{k} \\cdot \\binom{j}{k} = \\sum_{k = 0}^{j - 1} \\binom{i}{k} \\cdot \\binom{j}{j - k} = \\binom{i + j}{j} = \\binom{i + j}{i}\n",
    "$$\n",
    "Таким образм в произведении треугольных матриц паскаля получили заданную матрицу паскаля определитель которой равен $\\det{D} \\cdot \\det{U} = 1$.\n",
    "\n",
    "---"
   ]
  },
  {
   "cell_type": "markdown",
   "metadata": {
    "deletable": true,
    "editable": true
   },
   "source": [
    "А теперь вычислите определитель матрицы Паскаля $30\\times30$ с помощью библиотечной функции `scipy.linalg.det`:"
   ]
  },
  {
   "cell_type": "code",
   "execution_count": 12,
   "metadata": {
    "collapsed": false,
    "deletable": true,
    "editable": true
   },
   "outputs": [
    {
     "name": "stdout",
     "output_type": "stream",
     "text": [
      "-1.660248347384894e+48\n"
     ]
    }
   ],
   "source": [
    "print(sla.det(my_pascal(30)))"
   ]
  },
  {
   "cell_type": "markdown",
   "metadata": {
    "deletable": true,
    "editable": true
   },
   "source": [
    "Разница заметна невооружённым взглядом!"
   ]
  },
  {
   "cell_type": "markdown",
   "metadata": {
    "deletable": true,
    "editable": true
   },
   "source": [
    "## Часть 4. Матричные вычисления"
   ]
  },
  {
   "cell_type": "markdown",
   "metadata": {
    "deletable": true,
    "editable": true
   },
   "source": [
    "Вы уже видели, что писать вычисления с циклами неправильно, и важно уметь находить способы делать всё библиотечными средствами.\n",
    "\n",
    "В качестве примера рассмотрим две задачи:\n",
    "\n",
    "**1.** Предположим, нужно вычислить суммы элементов в каждой строке матрицы `A`. Ясно, что можно написать простую функцию с двумя циклами, которая это посчитает, но так лучше не делать. Правильный способ такой:\n",
    "```\n",
    "A.sum(axis=1)\n",
    "```\n",
    "Параметр `axis=1` означает, что суммы берутся по строкам. Если вы хотите просуммировать по столбцам, укажите `axis=0`. Если вообще пропустить параметр `axis` (вызвать `A.sum()`), то функция вернёт сумму *всех* элементов матрицы.\n",
    "\n",
    "**2.** Теперь допустим, что нам нужно каждый столбец матрицы `A` нужно умножить на некоторое число. Более точно, пусть у нас есть (одномерный) вектор `w = np.array([w_1,...,w_n])`, и мы должны `i`-й столбец `A` умножить на число `w_i`. Опять же, это можно сделать в пару циклов, но лучше использовать операцию поэлементного умножения:\n",
    "```\n",
    "A * w.reshape((1,n))\n",
    "```\n",
    "Оператор `reshape` нужен для того, чтобы из одномерного вектора сделать вектор-строку.\n",
    "\n",
    "Аналогично если на числа `w_1,...,w_n` умножаются *строки* матрицы, нужно превратить `w` в вектор-столбец:\n",
    "```\n",
    "A * w.reshape((n,1))\n",
    "```"
   ]
  },
  {
   "cell_type": "markdown",
   "metadata": {
    "deletable": true,
    "editable": true
   },
   "source": [
    "Дальше вам будет предложено попрактиковаться в матричных вычислениях. В следующих трёх заданиях нельзя пользоваться циклами; вместо этого постарайтесь свести всё к библиотечным функциям. Чтобы убедиться, что получилось именно то, что нужно, пишите собственные тесты со случайными матрицами."
   ]
  },
  {
   "cell_type": "markdown",
   "metadata": {
    "deletable": true,
    "editable": true
   },
   "source": [
    "**Задание 4.1** Напишите функцию `prod_and_sq_sum(A)`, вычисляющую произведение и сумму квадратов диагональных элементов квадратной матрицы `A`."
   ]
  },
  {
   "cell_type": "code",
   "execution_count": 21,
   "metadata": {
    "collapsed": false,
    "deletable": true,
    "editable": true
   },
   "outputs": [
    {
     "name": "stdout",
     "output_type": "stream",
     "text": [
      "(120, 55)\n"
     ]
    }
   ],
   "source": [
    "def prod_and_sq_sum(A):\n",
    "    return A.diagonal().prod(), (A.diagonal() * A.diagonal()).sum()\n",
    "# тестирую на диагональной матрице из 1-ой части\n",
    "print(prod_and_sq_sum(D))"
   ]
  },
  {
   "cell_type": "markdown",
   "metadata": {
    "deletable": true,
    "editable": true
   },
   "source": [
    "**Задание 4.2** Для матриц `A` и `B` размера $m\\times n$ обозначим через $a_1,\\ldots,a_m$ и $b_1,\\ldots,b_m$ соответственно их столбцы. Напишите функцию `f(k)`, вычисляющую\n",
    "\n",
    "$$\\sum_{i=1}^{\\min(k,m)}a_ib_i^T$$"
   ]
  },
  {
   "cell_type": "code",
   "execution_count": 6,
   "metadata": {
    "collapsed": false,
    "deletable": true,
    "editable": true
   },
   "outputs": [
    {
     "name": "stdout",
     "output_type": "stream",
     "text": [
      "[[ 1  1  1]\n",
      " [ 2 19  2]\n",
      " [ 1  1  1]]\n",
      "\n",
      "[[ 4  2 10]\n",
      " [ 3  1  1]\n",
      " [ 3  2  1]]\n",
      "\n",
      "\n",
      "[[10  5 12]\n",
      " [71 27 41]\n",
      " [10  5 12]]\n",
      "\n",
      "[[ 7  3 11]\n",
      " [65 23 39]\n",
      " [ 7  3 11]]\n"
     ]
    }
   ],
   "source": [
    "def f(k, A, B):\n",
    "    i = min(k, A.shape[1])\n",
    "    A = A[:,:i]\n",
    "    B = B[:,:i]\n",
    "    return A.dot(B.T)\n",
    "testMatr1 = np.array([[1, 1, 1],[2, 19, 2],[1, 1, 1]])\n",
    "testMatr2 = np.array([[4, 3, 3],[2, 1, 2],[10, 1, 1]])\n",
    "\n",
    "print(testMatr1)\n",
    "print()\n",
    "print(testMatr2.T)\n",
    "print('\\n')\n",
    "print(f(4, testMatr1, testMatr2))\n",
    "print()\n",
    "print(f(2, testMatr1, testMatr2))"
   ]
  },
  {
   "cell_type": "markdown",
   "metadata": {
    "deletable": true,
    "editable": true
   },
   "source": [
    "**Задание 4.3** Напишите функцию `get_diag(A,B)`, принимающую две матрицы `A` и `B` и возвращающую вектор диагональных элементов произведения `AB`, не вычисляя произведение целиком. "
   ]
  },
  {
   "cell_type": "code",
   "execution_count": 25,
   "metadata": {
    "collapsed": false,
    "deletable": true,
    "editable": true
   },
   "outputs": [
    {
     "name": "stdout",
     "output_type": "stream",
     "text": [
      "[[1 1 1]\n",
      " [2 2 2]\n",
      " [1 1 1]]\n",
      "[[3 3 3]\n",
      " [2 1 2]\n",
      " [1 1 1]]\n",
      "[ 6 10  6]\n"
     ]
    }
   ],
   "source": [
    "def get_diag(A,B):\n",
    "    return (A * B.T).sum(axis=1)\n",
    "\n",
    "\n",
    "testMatr1 = np.array([[1, 1, 1],[2, 2, 2],[1, 1, 1]])\n",
    "testMatr2 = np.array([[3, 3, 3],[2, 1, 2],[1, 1, 1]])\n",
    "print(testMatr1)\n",
    "print(testMatr2)\n",
    "\n",
    "\n",
    "print(get_diag(testMatr1, testMatr2))"
   ]
  },
  {
   "cell_type": "markdown",
   "metadata": {
    "deletable": true,
    "editable": true
   },
   "source": [
    "## Бонус. Метод Гаусса или обратные матрицы?"
   ]
  },
  {
   "cell_type": "markdown",
   "metadata": {
    "deletable": true,
    "editable": true
   },
   "source": [
    "Пусть нам дано матричное уравнение $Ax = B$, где $A$ --- матрица размера $n\\times n$, а $B$ --- матрица размера $n\\times m$ (отметим, что это уравнение можно интерпретировать как $m$ систем с векторными правыми частями и однаковыми левыми). Вообще говоря, методов решения таких уравнений очень много, но мы пока рассмотрим два из них, с которыми вы уже хорошо знакомы.\n",
    "1. Метод Гаусса;\n",
    "2. Умножение на обратную матрицу: $x = A^{-1}B$.\n",
    "\n",
    "В этом задании вы попробуете ответить на вопрос о том, какой из этих методов эффективнее. Проведите два эксперимента:\n",
    "- сравните скорости решения системы при фиксированном `m = 10` и `n`, изменяющемся в пределах от 10 до 1000, например, для `n=10, 50, 100, 200, 500, 1000` (рост числа неизвестных при фиксированном количестве правых частей);\n",
    "- сравните скорости решения системы при фиксированном `n = 100` и `m`, меняющемся от 10 до 10000, например, для `m = 10, 100, 500, 1000, 2000, 5000, 10000` (рост числа правых частей при фиксированном числе неизвестных).\n",
    "\n",
    "Эксперименты проведите на случайных матрицах, созданных с помощью функции `numpy.random.rand`. Постройте графики времени выполнения функции от размерности (лучше в логарифмическом масштабе). Сделайте выводы (в письменном виде!) о том, какой их методов оказывается лучше в каких обстоятельствах.\n",
    "\n",
    "Чтобы всё это не казалось вам чёрной магией, найдите число операций (суммарно сложения, умножения и деления), необходимых для решения системы каждым из методов. Обратите внимания на члены степени 3 (члены меньшего порядка можете даже не считать). Постарайтесь объяснить полученные ранее результаты."
   ]
  },
  {
   "cell_type": "code",
   "execution_count": 27,
   "metadata": {
    "collapsed": true,
    "deletable": true,
    "editable": true
   },
   "outputs": [],
   "source": [
    "def gaussianElimination(A, B):\n",
    "    return sla.solve(A, B)"
   ]
  },
  {
   "cell_type": "code",
   "execution_count": 28,
   "metadata": {
    "collapsed": true,
    "deletable": true,
    "editable": true
   },
   "outputs": [],
   "source": [
    "def inverseMatrix(A, B):\n",
    "    return sla.inv(A).dot(B)"
   ]
  },
  {
   "cell_type": "code",
   "execution_count": 31,
   "metadata": {
    "collapsed": false,
    "deletable": true,
    "editable": true
   },
   "outputs": [
    {
     "name": "stdout",
     "output_type": "stream",
     "text": [
      "10000 loops, best of 3: 61.1 µs per loop\n",
      "10000 loops, best of 3: 65.5 µs per loop\n",
      "10000 loops, best of 3: 106 µs per loop\n",
      "10000 loops, best of 3: 146 µs per loop\n",
      "10000 loops, best of 3: 168 µs per loop\n",
      "1000 loops, best of 3: 286 µs per loop\n",
      "1000 loops, best of 3: 457 µs per loop\n",
      "1000 loops, best of 3: 865 µs per loop\n",
      "100 loops, best of 3: 3.36 ms per loop\n",
      "100 loops, best of 3: 6.79 ms per loop\n",
      "10 loops, best of 3: 23.1 ms per loop\n",
      "10 loops, best of 3: 48.3 ms per loop\n"
     ]
    },
    {
     "data": {
      "text/plain": [
       "<matplotlib.legend.Legend at 0x115252a20>"
      ]
     },
     "execution_count": 31,
     "metadata": {},
     "output_type": "execute_result"
    },
    {
     "data": {
      "image/png": "[encoded data removed]",
      "text/plain": [
       "<matplotlib.figure.Figure at 0x10db9a278>"
      ]
     },
     "metadata": {},
     "output_type": "display_data"
    }
   ],
   "source": [
    "gaussElimMeasures = []\n",
    "inverseMatMeasures = []\n",
    "nDim = [10, 50, 100, 200, 500, 1000]\n",
    "m = 10\n",
    "\n",
    "for dim in nDim:\n",
    "    A = np.random.rand(dim, dim)\n",
    "    B = np.random.rand(dim, m)\n",
    "    \n",
    "    gaussElimTime = %timeit -o gaussianElimination(A, B)\n",
    "    gaussElimMeasures.append(gaussElimTime.best)\n",
    "    \n",
    "    inverseMatTime = %timeit -o inverseMatrix(A, B)\n",
    "    inverseMatMeasures.append(inverseMatTime.best)\n",
    "    \n",
    "plt.semilogy(nDim, gaussElimMeasures, color='blue', label='Gausian elemination')\n",
    "plt.semilogy(nDim, inverseMatMeasures, color='red', label='Inverse matrix')\n",
    "plt.title('Gaussian elimination vs Inverse matrix in solution of matrix equation (while N is increasing)')\n",
    "plt.ylabel('Time')\n",
    "plt.xlabel('N dimensions')\n",
    "plt.legend()"
   ]
  },
  {
   "cell_type": "code",
   "execution_count": 32,
   "metadata": {
    "collapsed": false,
    "deletable": true,
    "editable": true
   },
   "outputs": [
    {
     "name": "stdout",
     "output_type": "stream",
     "text": [
      "10000 loops, best of 3: 164 µs per loop\n",
      "1000 loops, best of 3: 297 µs per loop\n",
      "The slowest run took 4.22 times longer than the fastest. This could mean that an intermediate result is being cached.\n",
      "1000 loops, best of 3: 235 µs per loop\n",
      "1000 loops, best of 3: 308 µs per loop\n",
      "1000 loops, best of 3: 793 µs per loop\n",
      "1000 loops, best of 3: 442 µs per loop\n",
      "1000 loops, best of 3: 1.41 ms per loop\n",
      "1000 loops, best of 3: 609 µs per loop\n",
      "100 loops, best of 3: 2.65 ms per loop\n",
      "1000 loops, best of 3: 987 µs per loop\n",
      "100 loops, best of 3: 7.64 ms per loop\n",
      "100 loops, best of 3: 3.01 ms per loop\n",
      "100 loops, best of 3: 15 ms per loop\n",
      "100 loops, best of 3: 5.45 ms per loop\n"
     ]
    },
    {
     "data": {
      "text/plain": [
       "<matplotlib.legend.Legend at 0x1152a35f8>"
      ]
     },
     "execution_count": 32,
     "metadata": {},
     "output_type": "execute_result"
    },
    {
     "data": {
      "image/png": "[encoded data removed]",
      "text/plain": [
       "<matplotlib.figure.Figure at 0x10483e160>"
      ]
     },
     "metadata": {},
     "output_type": "display_data"
    }
   ],
   "source": [
    "gaussElimMeasures = []\n",
    "inverseMatMeasures = []\n",
    "mDim = [10, 100, 500, 1000, 2000, 5000, 10000]\n",
    "n = 100\n",
    "\n",
    "for dim in mDim:\n",
    "    A = np.random.rand(n, n)\n",
    "    B = np.random.rand(n, dim)\n",
    "    \n",
    "    gaussElimTime = %timeit -o gaussianElimination(A, B)\n",
    "    gaussElimMeasures.append(gaussElimTime.best)\n",
    "    \n",
    "    inverseMatTime = %timeit -o inverseMatrix(A, B)\n",
    "    inverseMatMeasures.append(inverseMatTime.best)\n",
    "    \n",
    "plt.semilogy(mDim, gaussElimMeasures, color='blue', label='Gausian elemination')\n",
    "plt.semilogy(mDim, inverseMatMeasures, color='red', label='Inverse matrix')\n",
    "plt.title('Gaussian elimination vs Inverse matrix in solution of matrix equation (while M is increasing)')\n",
    "plt.ylabel('Time')\n",
    "plt.xlabel('M dimensions')\n",
    "plt.legend()"
   ]
  },
  {
   "cell_type": "markdown",
   "metadata": {
    "collapsed": true,
    "deletable": true,
    "editable": true
   },
   "source": [
    "### Вывод\n",
    "\n",
    "---\n",
    "\n",
    "Решение матричных уравнений методом Гаусса работает быстрее при фиксированном количестве столбцов правой матрицы ($m$ фиксировано), и медленнее при фиксированном размере левой матрицы ($n$ фиксировано).\n",
    "\n",
    "Чтобы показать почему это так, оценим сложность этих дух алгоритмов решения систем матричных уравнений:\n",
    "\n",
    "1. **Метод Гаусса:**\n",
    "\n",
    "    Число операций:\n",
    "    \n",
    "    $$\n",
    "        O(n^{2} \\cdot 2(n + m))\n",
    "    $$\n",
    "    \n",
    "    Так как у нас не более $n + m$ операций умножения, не более $n + m$ операций сложения для каждой пары строк, а значит эти операции будут выполнятся не более чем $n^{2}$ раз.\n",
    "\n",
    "\n",
    "\n",
    "2. **Нахождение обратной матрицы:**\n",
    "    \n",
    "    При нахождении обратной матрицы к матрице $A$ число операций будет:\n",
    "    \n",
    "    $$\n",
    "        O(n^{2} \\cdot 2(n + n)) = O(4n^{3})\n",
    "    $$\n",
    "    \n",
    "    Но в этом методе нужно также умножать матрицу $A^{-1}$ на матрицу $B$, число операций здесь равно:\n",
    "    \n",
    "    $$\n",
    "        O(n^{2} \\cdot m)\n",
    "    $$\n",
    "    \n",
    "    Тогда общее число операий равно:\n",
    "    \n",
    "    $$\n",
    "        O(4n^{3}) + O(n^{2} \\cdot m) = O(4n^{3} + n^{2} \\cdot m) = O(n^{2} \\cdot (4n + m))\n",
    "    $$\n",
    "    \n",
    "\n",
    "\n",
    "Тогда при фиксированном $m$, метод Гаусса выполняет меньше операций: $O(2n^{2}) < O(4n^{2})$.\n",
    "\n",
    "При фиксированном $n$, быстрее работает метод с нахождением обратной матрицы: $O(2m) > O(m)$.\n",
    "\n",
    "---"
   ]
  }
 ],
 "metadata": {
  "anaconda-cloud": {},
  "kernelspec": {
   "display_name": "Python 3",
   "language": "python",
   "name": "python3"
  },
  "language_info": {
   "codemirror_mode": {
    "name": "ipython",
    "version": 3
   },
   "file_extension": ".py",
   "mimetype": "text/x-python",
   "name": "python",
   "nbconvert_exporter": "python",
   "pygments_lexer": "ipython3",
   "version": "3.6.1"
  }
 },
 "nbformat": 4,
 "nbformat_minor": 0
}
